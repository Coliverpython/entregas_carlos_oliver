{
 "cells": [
  {
   "cell_type": "markdown",
   "metadata": {},
   "source": [
    "![imagen](./img/ejercicios.png)"
   ]
  },
  {
   "cell_type": "markdown",
   "metadata": {},
   "source": [
    "## Ejercicio 1\n",
    "Dada la siguiente lista:\n",
    "> ```ejer_1 = [1,2,3,4,5]```\n",
    "\n",
    "Inviértela para que quede de la siguiente manera\n",
    "> ```ejer_1 = [5,4,3,2,1]```"
   ]
  },
  {
   "cell_type": "code",
   "execution_count": 17,
   "metadata": {},
   "outputs": [
    {
     "name": "stdout",
     "output_type": "stream",
     "text": [
      "[5, 4, 3, 2, 1]\n"
     ]
    }
   ],
   "source": [
    "ejer_1 = [1,2,3,4,5]\n",
    "\n",
    "ejer_1.reverse()\n",
    "\n",
    "print(ejer_1)"
   ]
  },
  {
   "cell_type": "code",
   "execution_count": 3,
   "metadata": {},
   "outputs": [
    {
     "data": {
      "text/plain": [
       "[5, 4, 3, 2, 1]"
      ]
     },
     "execution_count": 3,
     "metadata": {},
     "output_type": "execute_result"
    }
   ],
   "source": [
    "ejer_1 = [1,2,3,4,5]\n",
    "ejer_1 = ejer_1[::-1]\n",
    "ejer_1"
   ]
  },
  {
   "cell_type": "code",
   "execution_count": 5,
   "metadata": {},
   "outputs": [
    {
     "data": {
      "text/plain": [
       "[5, 4, 3, 2, 1]"
      ]
     },
     "execution_count": 5,
     "metadata": {},
     "output_type": "execute_result"
    }
   ],
   "source": [
    "ejer_1 = [1,2,3,4,5]\n",
    "\n",
    "list(reversed(ejer_1))"
   ]
  },
  {
   "cell_type": "markdown",
   "metadata": {},
   "source": [
    "## ejercicio 2\n",
    "Eleva al cuadrado la lista"
   ]
  },
  {
   "cell_type": "code",
   "execution_count": 7,
   "metadata": {},
   "outputs": [
    {
     "name": "stdout",
     "output_type": "stream",
     "text": [
      "1\n",
      "4\n",
      "9\n",
      "16\n",
      "25\n"
     ]
    },
    {
     "data": {
      "text/plain": [
       "[1, 4, 9, 16, 25]"
      ]
     },
     "execution_count": 7,
     "metadata": {},
     "output_type": "execute_result"
    }
   ],
   "source": [
    "ejer_2 = [1,2,3,4,5]\n",
    "nuev_list_2 =[]\n",
    "for cuadrado in ejer_2:\n",
    "    print(cuadrado**2)\n",
    "    nuev_list_2.append(cuadrado**2)\n",
    "nuev_list_2"
   ]
  },
  {
   "cell_type": "code",
   "execution_count": null,
   "metadata": {},
   "outputs": [],
   "source": []
  },
  {
   "cell_type": "markdown",
   "metadata": {},
   "source": [
    "## Ejercicio 3\n",
    "Crea una lista nueva con todas las combinaciones de las siguientes dos listas:\n",
    "> ```ejer_3_1 = [\"Hola\", \"amigo\"]```\n",
    ">\n",
    "> ```ejer_3_2 = [\"Que\", \"tal\"]```\n",
    "\n",
    "Obten el siguiente output:\n",
    "\n",
    "```['Hola Que', 'Hola tal', 'amigo Que', 'amigo tal']```"
   ]
  },
  {
   "cell_type": "code",
   "execution_count": 73,
   "metadata": {},
   "outputs": [
    {
     "name": "stdout",
     "output_type": "stream",
     "text": [
      "['Hola Que', 'Hola tal', 'amigo Que', 'amigo tal']\n"
     ]
    }
   ],
   "source": [
    "ejer_3_1 = [\"Hola\", \"amigo\"]\n",
    "ejer_3_2 = [\"Que\", \"tal\"]\n",
    "#[Hola Que\", Hola tal\", \"amigo Que\", \"amigo tal\"]\n",
    "lista_new = []\n",
    "\n",
    "for elemento in ejer_3_1:\n",
    "    for elementdos in ejer_3_2:\n",
    "        combinacion = elemento + \" \" + elementdos\n",
    "        lista_new.append(combinacion)\n",
    "\n",
    "\n",
    "print(lista_new)\n",
    "\n"
   ]
  },
  {
   "attachments": {},
   "cell_type": "markdown",
   "metadata": {},
   "source": [
    "## Ejercicio 4\n",
    "Dada la siguiente lista, encuentra por el índice el valor 45 y sustitúyelo por el 0\n",
    "> ```ejer_4 = [20, 47, 19, 29, 45, 67, 78, 90]```"
   ]
  },
  {
   "cell_type": "code",
   "execution_count": 39,
   "metadata": {},
   "outputs": [
    {
     "name": "stdout",
     "output_type": "stream",
     "text": [
      "[20, 47, 19, 29, 0, 67, 75, 90]\n"
     ]
    }
   ],
   "source": [
    "ejer_4 = [20,47,19,29,45,67,75,90]\n",
    "\n",
    "ejer_4.index(45)\n",
    "\n",
    "ejer_4[4] = 0\n",
    "\n",
    "print(ejer_4)"
   ]
  },
  {
   "cell_type": "markdown",
   "metadata": {},
   "source": [
    "## Ejercicio 5\n",
    "Dada la siguiente lista, elimina todos los valores iguales a 3\n",
    "> ```ejer_5 = [3, 20, 3, 47, 19, 3, 29, 45, 67, 78, 90, 3, 3]```\n",
    "\n",
    "TIP: No intentes eliminar elementos sobre la lista que estás iterando. Haz una copia con `ejer_5.copy()`."
   ]
  },
  {
   "cell_type": "code",
   "execution_count": 58,
   "metadata": {},
   "outputs": [
    {
     "name": "stdout",
     "output_type": "stream",
     "text": [
      "[30, 47, 19, 29, 45, 67, 78, 90]\n"
     ]
    }
   ],
   "source": [
    "ejer_5 = [3,30,3,47,19,3,29,45,67,78,90,3,3]\n",
    "\n",
    "ejer_5_var = ejer_5.copy()\n",
    "\n",
    "for elemento in ejer_5:\n",
    "    if elemento == 3:\n",
    "        ejer_5_var.remove(elemento)\n",
    "\n",
    "print(ejer_5_var)"
   ]
  },
  {
   "cell_type": "code",
   "execution_count": 9,
   "metadata": {},
   "outputs": [
    {
     "data": {
      "text/plain": [
       "[30, 47, 19, 29, 45, 67, 78, 90]"
      ]
     },
     "execution_count": 9,
     "metadata": {},
     "output_type": "execute_result"
    }
   ],
   "source": [
    "ejer_5 = [3,30,3,47,19,3,29,45,67,78,90,3,3]\n",
    "ejer_5_var = ejer_5.copy()\n",
    "\n",
    "ejer_5.count(3)\n",
    "for numero in range(0, ejer_5.count(3)):\n",
    "    ejer_5_var.remove(3)\n",
    "ejer_5_var\n"
   ]
  },
  {
   "cell_type": "code",
   "execution_count": 10,
   "metadata": {},
   "outputs": [
    {
     "data": {
      "text/plain": [
       "[30, 47, 19, 29, 45, 67, 78, 90]"
      ]
     },
     "execution_count": 10,
     "metadata": {},
     "output_type": "execute_result"
    }
   ],
   "source": [
    "melaquedo = []\n",
    "for cosas in ejer_5:\n",
    "    if cosas != 3:\n",
    "        melaquedo.append(cosas)\n",
    "melaquedo"
   ]
  },
  {
   "attachments": {},
   "cell_type": "markdown",
   "metadata": {},
   "source": [
    "## Ejercicio 6\n",
    "1. Crea una tupla con 3 elementos\n",
    "2. Crea otra tupla con un elemento y comprueba su tipo\n",
    "3. Crea una tupla con elementos de diferentes tipos\n",
    "4. Imprime por pantalla el primer y último elemento de la tupla del apartado 3. Usa `len` para el último\n",
    "5. Añade un elemento a la tupla del apartado 3.\n",
    "6. Eliminar un elemento de la tupla del apartado 5, que se encuentre más o menos en la mitad.\n",
    "7. Convierte la tupla del apartado 5 en una lista"
   ]
  },
  {
   "cell_type": "code",
   "execution_count": 16,
   "metadata": {},
   "outputs": [
    {
     "name": "stdout",
     "output_type": "stream",
     "text": [
      "1 True\n",
      "[1, 'fff', 1.2, True, 2, 3]\n",
      "[1, 1.2, True, 2, 3]\n"
     ]
    }
   ],
   "source": [
    "tupla = (1,2,3)\n",
    "tupla1 = (1,)\n",
    "type(tupla1)\n",
    "\n",
    "tupla2 = (1,\"fff\", 1.2, True)\n",
    "print(tupla2[0],tupla2[len(tupla2)-1])\n",
    "\n",
    "tupla3 = tupla2 + (2,3)\n",
    "tupla4 = list(tupla3)\n",
    "print(tupla4)\n",
    "\n",
    "lista_tupla4 = tupla4.pop(tupla4[len(tupla4)//2])\n",
    "print(tupla4)\n",
    "\n"
   ]
  },
  {
   "attachments": {},
   "cell_type": "markdown",
   "metadata": {},
   "source": [
    "## Ejercicio 7\n",
    "Concatena todos los elementos de la tupla en un único string. Para ello utiliza el metodo `.join()` de los Strings\n",
    "> ```ejer_7 = (\"cien\", \"cañones\", \"por\", \"banda\")```\n",
    "\n",
    "Resultado: `cien cañones por banda`"
   ]
  },
  {
   "cell_type": "code",
   "execution_count": 145,
   "metadata": {},
   "outputs": [
    {
     "data": {
      "text/plain": [
       "'cien cañones por banda'"
      ]
     },
     "execution_count": 145,
     "metadata": {},
     "output_type": "execute_result"
    }
   ],
   "source": [
    "ejer_7 = (\"cien\", \"cañones\", \"por\", \"banda\")\n",
    "ejer_7_2 = []\n",
    "\" \".join(ejer_7)"
   ]
  },
  {
   "cell_type": "markdown",
   "metadata": {},
   "source": [
    "## Ejercicio 8\n",
    "Obten el tercer elemento de la siguiente tupla, y el tercero empezando por la cola\n",
    "> ```ejer_8 = (3, 20, 3, 47, 19, 3, 29, 45, 67, 78, 90, 3, 3)```"
   ]
  },
  {
   "cell_type": "code",
   "execution_count": 149,
   "metadata": {},
   "outputs": [
    {
     "name": "stdout",
     "output_type": "stream",
     "text": [
      "[3, 90]\n"
     ]
    }
   ],
   "source": [
    "ejer_8 = (3,20,3,47,19,3,29,45,67,78,90,3,3)\n",
    "ejer_8_lista = []\n",
    "\n",
    "ejer_8_lista.append(ejer_8[2])\n",
    "ejer_8_lista.append(ejer_8[-3])\n",
    "\n",
    "\n",
    "print(ejer_8_lista)"
   ]
  },
  {
   "attachments": {},
   "cell_type": "markdown",
   "metadata": {},
   "source": [
    "## Ejercicio 9\n",
    "1. ¿Cuántas veces se repite el 3 en la siguiente tupla?\n",
    "2. Crea una tupla nueva con los elementos desde la posición 5 a la 10.\n",
    "3. ¿Cuántos elementos tiene la tupla `ejer_9`?\n",
    "4. Comprueba si el numero 60 está en la tupla\n",
    "> ```ejer_9 = (3, 20, 3, 47, 19, 3, 29, 45, 67, 78, 90, 3, 3, 5, 2, 4, 7, 9, 4, 2, 4, 3, 3, 4, 6, 7)```"
   ]
  },
  {
   "cell_type": "code",
   "execution_count": 18,
   "metadata": {},
   "outputs": [],
   "source": [
    "ejer_9 = (3, 20, 3, 47, 19, 3, 29, 45, 67, 78, 90, 3, 3, 5, 2, 4, 7, 9, 4, 2, 4, 3, 3, 4, 6, 7)\n",
    "\n",
    "ejer_9.count(3)\n",
    "list_9 = [ejer_9[4:10]]\n",
    "tuple(list_9)\n",
    "\n",
    "len(ejer_9)\n",
    "\n",
    "for indice, elemento_9 in enumerate(ejer_9):\n",
    "    if elemento_9 == 60:\n",
    "        print(f\"el número 60 esta en la posición {indice}\")\n",
    "    else:\n",
    "        continue"
   ]
  },
  {
   "cell_type": "code",
   "execution_count": 19,
   "metadata": {},
   "outputs": [
    {
     "name": "stdout",
     "output_type": "stream",
     "text": [
      "no\n"
     ]
    }
   ],
   "source": [
    "if ejer_9.count(60):\n",
    "    print(\"existe\")\n",
    "else:\n",
    "    print(\"no\")"
   ]
  },
  {
   "cell_type": "code",
   "execution_count": 20,
   "metadata": {},
   "outputs": [
    {
     "data": {
      "text/plain": [
       "False"
      ]
     },
     "execution_count": 20,
     "metadata": {},
     "output_type": "execute_result"
    }
   ],
   "source": [
    "60 in ejer_9"
   ]
  },
  {
   "attachments": {},
   "cell_type": "markdown",
   "metadata": {},
   "source": [
    "## Ejercicio 10\n",
    "1. Convierte la tupla del ejercicio 9 en una lista\n",
    "2. Convierte la tupla del ejercicio 9 en un set\n",
    "3. Convierte la tupla del ejercicio 9 en un diccionario. Usa también los índices"
   ]
  },
  {
   "cell_type": "code",
   "execution_count": 190,
   "metadata": {},
   "outputs": [
    {
     "name": "stdout",
     "output_type": "stream",
     "text": [
      "<class 'list'>\n",
      "{2, 3, 67, 5, 4, 7, 6, 9, 45, 78, 47, 19, 20, 90, 60, 29}\n",
      "{3: 4, 19: 3, 29: 45, 67: 78, 90: 3, 2: 4, 7: 9, 4: 3, 6: 7}\n"
     ]
    }
   ],
   "source": [
    "ejer_10 = list(ejer_9)\n",
    "print(type(ejer_10))\n",
    "\n",
    "set_10 = set(ejer_9)\n",
    "print(set_10)\n",
    "\n",
    "keys_10 = []\n",
    "value_10 = []\n",
    "keys_10 = ejer_9[0:len(ejer_9):2]\n",
    "value_10 = ejer_9[1:len(ejer_9):2] \n",
    "\n",
    "diccionario_10 = dict(zip(keys_10,value_10))\n",
    "print(diccionario_10)"
   ]
  },
  {
   "cell_type": "code",
   "execution_count": 22,
   "metadata": {},
   "outputs": [
    {
     "data": {
      "text/plain": [
       "{3: 22,\n",
       " 20: 1,\n",
       " 47: 3,\n",
       " 19: 4,\n",
       " 29: 6,\n",
       " 45: 7,\n",
       " 67: 8,\n",
       " 78: 9,\n",
       " 90: 10,\n",
       " 5: 13,\n",
       " 2: 19,\n",
       " 4: 23,\n",
       " 7: 25,\n",
       " 9: 17,\n",
       " 6: 24}"
      ]
     },
     "execution_count": 22,
     "metadata": {},
     "output_type": "execute_result"
    }
   ],
   "source": [
    "d = dict()\n",
    "\n",
    "for indice, elemento in enumerate(ejer_9):\n",
    "    d[elemento] = indice\n",
    "d\n"
   ]
  },
  {
   "cell_type": "markdown",
   "metadata": {},
   "source": [
    "## Ejercicio 11\n",
    "Convierte la siguiente lista en un diccionario\n",
    "> ```ejer_11 = [(\"x\", 1), (\"x\", 2), (\"x\", 3), (\"y\", 1), (\"y\", 2), (\"z\", 1)]```\n",
    "\n",
    "TIP: Puedes usar dos variables de control en un bucle `for`. Una por cada valor de las tuplas."
   ]
  },
  {
   "cell_type": "code",
   "execution_count": 23,
   "metadata": {},
   "outputs": [
    {
     "name": "stdout",
     "output_type": "stream",
     "text": [
      "{'x': 3, 'y': 2, 'z': 1}\n"
     ]
    }
   ],
   "source": [
    "ejer_11 = [(\"x\", 1), (\"x\", 2), (\"x\", 3), (\"y\", 1), (\"y\", 2), (\"z\", 1)]\n",
    "keys_11 = []\n",
    "value_11 = []\n",
    "\n",
    "for element in ejer_11:\n",
    "    keys_11.extend([element[0]])\n",
    "    value_11.extend([element[1]])\n",
    "\n",
    "\n",
    "diccionario_11 = dict(zip(keys_11,value_11))\n",
    "\n",
    "print(diccionario_11)\n"
   ]
  },
  {
   "cell_type": "code",
   "execution_count": 1,
   "metadata": {},
   "outputs": [
    {
     "name": "stdout",
     "output_type": "stream",
     "text": [
      "{'x': 3, 'y': 2, 'z': 1}\n"
     ]
    }
   ],
   "source": [
    "ejer_11 = [(\"x\", 1), (\"x\", 2), (\"x\", 3), (\"y\", 1), (\"y\", 2), (\"z\", 1)]\n",
    "tupla11 = tuple(ejer_11)\n",
    "\n",
    "diccionario_11_1 = dict(tupla11)\n",
    "\n",
    "print(diccionario_11_1)"
   ]
  },
  {
   "cell_type": "code",
   "execution_count": 25,
   "metadata": {},
   "outputs": [
    {
     "data": {
      "text/plain": [
       "{'x': 1, 'x1': 2, 'x2': 3, 'y': 1, 'y4': 2, 'z': 1}"
      ]
     },
     "execution_count": 25,
     "metadata": {},
     "output_type": "execute_result"
    }
   ],
   "source": [
    "ejer_11 = [(\"x\", 1), (\"x\", 2), (\"x\", 3), (\"y\", 1), (\"y\", 2), (\"z\", 1)]\n",
    "d = dict()\n",
    "\n",
    "for letra, numerin in ejer_11:\n",
    "    if letra in d:\n",
    "        letra = letra + str(len(d))\n",
    "    d[letra] = numerin\n"
   ]
  },
  {
   "cell_type": "code",
   "execution_count": 27,
   "metadata": {},
   "outputs": [
    {
     "data": {
      "text/plain": [
       "{'x': [1, 2, 3], 'y': [1, 2], 'z': [1]}"
      ]
     },
     "execution_count": 27,
     "metadata": {},
     "output_type": "execute_result"
    }
   ],
   "source": [
    "## ESTE LE GUSTA A JL\n",
    "\n",
    "ejer_11 = [(\"x\", 1), (\"x\", 2), (\"x\", 3), (\"y\", 1), (\"y\", 2), (\"z\", 1)]\n",
    "d = dict()\n",
    "\n",
    "for letra, numerin in ejer_11:\n",
    "    if letra not in d.keys():\n",
    "        d[letra] = [numerin]\n",
    "    else:\n",
    "        d[letra].append(numerin)\n",
    "\n",
    "d\n"
   ]
  },
  {
   "attachments": {},
   "cell_type": "markdown",
   "metadata": {},
   "source": [
    "## Ejercicio 12\n",
    "1. Crea una lista ordenada ascendente con las claves del diccionario\n",
    "2. Crea otra lista ordenada descendente con los valores\n",
    "3. Añade una nueva clave/valor\n",
    "4. Busca la clave igual 2 dentro del diccionario\n",
    "5. Itera la clave y el valor del diccionario con un único for\n",
    "> ```ejer_12 = {4:78, 2:98, 8:234, 5:29}```"
   ]
  },
  {
   "cell_type": "code",
   "execution_count": 12,
   "metadata": {},
   "outputs": [
    {
     "data": {
      "text/plain": [
       "[2, 4, 5, 8]"
      ]
     },
     "execution_count": 12,
     "metadata": {},
     "output_type": "execute_result"
    }
   ],
   "source": [
    "# se crea un diccionario\n",
    "ejer_12 = {4:78, 2:98, 8:234, 5:29}\n",
    "#se crea una lista con las keys del diccionario y se organizan con sorted.\n",
    "sorted(ejer_12.keys())"
   ]
  },
  {
   "cell_type": "code",
   "execution_count": 13,
   "metadata": {},
   "outputs": [
    {
     "data": {
      "text/plain": [
       "[8, 5, 4, 2]"
      ]
     },
     "execution_count": 13,
     "metadata": {},
     "output_type": "execute_result"
    }
   ],
   "source": [
    "#se invierte la organización de las keys con el atributo reverse.\n",
    "sorted(ejer_12.keys(), reverse=True)"
   ]
  },
  {
   "cell_type": "code",
   "execution_count": 11,
   "metadata": {},
   "outputs": [
    {
     "data": {
      "text/plain": [
       "{4: 78, 2: 98, 8: 234, 5: 29, 'Hola': 'Quetal'}"
      ]
     },
     "execution_count": 11,
     "metadata": {},
     "output_type": "execute_result"
    }
   ],
   "source": [
    "#se añade una key = value al diccionario\n",
    "ejer_12[\"Hola\"] = \"Quetal\"\n",
    "ejer_12"
   ]
  },
  {
   "cell_type": "code",
   "execution_count": 24,
   "metadata": {},
   "outputs": [
    {
     "name": "stdout",
     "output_type": "stream",
     "text": [
      "Clave, 4 Valor,78\n",
      "Clave, 2 Valor,98\n",
      "Clave, 8 Valor,234\n",
      "Clave, 5 Valor,29\n"
     ]
    }
   ],
   "source": [
    "#se itera por el diccionario con su clave y valor, se utiliza \n",
    "for clave, valor in ejer_12.items():\n",
    "    print(f\"Clave, {clave} Valor,{valor}\")"
   ]
  },
  {
   "cell_type": "markdown",
   "metadata": {},
   "source": [
    "## Ejercicio 13\n",
    "Junta ambos diccionarios. Para ello, utiliza `update`\n",
    "> ```ejer_13_1 = {1: 11, 2: 22}```\n",
    ">\n",
    "> ```ejer_13_2 = {3: 33, 4: 44}```"
   ]
  },
  {
   "cell_type": "code",
   "execution_count": 27,
   "metadata": {},
   "outputs": [
    {
     "data": {
      "text/plain": [
       "{1: 11, 2: 22, 3: 33, 4: 44}"
      ]
     },
     "execution_count": 27,
     "metadata": {},
     "output_type": "execute_result"
    }
   ],
   "source": [
    "#para unir 2 diccionarios hay que utilizar el metodo update()\n",
    "\n",
    "ejer_13_1 = {1: 11, 2: 22}\n",
    "ejer_13_2 = {3: 33, 4: 44}\n",
    "\n",
    "ejer_13_1.update(ejer_13_2)\n",
    "ejer_13_1"
   ]
  },
  {
   "cell_type": "markdown",
   "metadata": {},
   "source": [
    "## Ejercicio 14\n",
    "Suma todos los valores del dicionario\n",
    "> ```ejer_14 = {1: 11, 2: 22, 3: 33, 4: 44, 5: 55}```"
   ]
  },
  {
   "cell_type": "code",
   "execution_count": 31,
   "metadata": {},
   "outputs": [
    {
     "data": {
      "text/plain": [
       "165"
      ]
     },
     "execution_count": 31,
     "metadata": {},
     "output_type": "execute_result"
    }
   ],
   "source": [
    "ejer_14 = {1: 11, 2: 22, 3: 33, 4: 44, 5: 55}\n",
    "sum(ejer_14.values())"
   ]
  },
  {
   "cell_type": "markdown",
   "metadata": {},
   "source": [
    "## Ejercicio 15\n",
    "Multiplica todos los valores del diccionario\n",
    "> ```ejer_15 = {1: 11, 2: 22, 3: 33, 4: 44, 5: 55}```"
   ]
  },
  {
   "cell_type": "code",
   "execution_count": 33,
   "metadata": {},
   "outputs": [
    {
     "data": {
      "text/plain": [
       "19326120"
      ]
     },
     "execution_count": 33,
     "metadata": {},
     "output_type": "execute_result"
    }
   ],
   "source": [
    "import math\n",
    "ejer_15 = {1: 11, 2: 22, 3: 33, 4: 44, 5: 55}\n",
    "math.prod(ejer_15.values())"
   ]
  },
  {
   "cell_type": "markdown",
   "metadata": {},
   "source": [
    "## Ejercicio 16\n",
    "1. Crea un set de tres elementos\n",
    "2. Añade un cuarto\n",
    "3. Elimina el último elemento añadido\n",
    "4. Elimina el elemento 10, si está presente. Usa `discard()`"
   ]
  },
  {
   "cell_type": "code",
   "execution_count": 45,
   "metadata": {},
   "outputs": [
    {
     "name": "stdout",
     "output_type": "stream",
     "text": [
      "<class 'set'>\n"
     ]
    },
    {
     "data": {
      "text/plain": [
       "{1, 2, 3}"
      ]
     },
     "execution_count": 45,
     "metadata": {},
     "output_type": "execute_result"
    }
   ],
   "source": [
    "#crea un set\n",
    "s = {1, 2, 3}\n",
    "print(type(s))\n",
    "#añade un valor al set\n",
    "s.add(5)\n",
    "s\n",
    "#elimina el ultimo elemento añadido\n",
    "s.remove(5)\n",
    "s\n",
    "#elimina el elemento 10, si esta presente. Usa discard\n"
   ]
  },
  {
   "cell_type": "code",
   "execution_count": null,
   "metadata": {},
   "outputs": [],
   "source": []
  }
 ],
 "metadata": {
  "kernelspec": {
   "display_name": "Python 3.7.4 64-bit",
   "language": "python",
   "name": "python3"
  },
  "language_info": {
   "codemirror_mode": {
    "name": "ipython",
    "version": 3
   },
   "file_extension": ".py",
   "mimetype": "text/x-python",
   "name": "python",
   "nbconvert_exporter": "python",
   "pygments_lexer": "ipython3",
   "version": "3.12.1"
  },
  "vscode": {
   "interpreter": {
    "hash": "90139cb9a825bf3d63f6f6704e828dbd1ff7edbd4d0c6e906a71235d6efc74af"
   }
  }
 },
 "nbformat": 4,
 "nbformat_minor": 4
}
