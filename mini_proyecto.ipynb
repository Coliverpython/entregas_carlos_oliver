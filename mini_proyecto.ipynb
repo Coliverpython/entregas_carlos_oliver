{
 "cells": [
  {
   "cell_type": "markdown",
   "metadata": {},
   "source": [
    "# LINEAR REGRESSION -  MINIPROYECTO"
   ]
  },
  {
   "cell_type": "markdown",
   "metadata": {},
   "source": [
    "## FORMA 1 - GRADIENT DESCENT\n",
    "\n",
    "El **descenso de gradiente** es un algoritmo de optimización que se utiliza para ajustar los parámetros de un modelo de regresión lineal. El objetivo es encontrar los valores de los parámetros que minimizan la función de costo, que mide la diferencia entre las predicciones del modelo y los valores reales.\n",
    "\n",
    "El descenso de gradiente funciona iterativamente, actualizando los valores de los parámetros en cada iteración para reducir la función de costo. En cada iteración, se calcula el gradiente de la función de costo con respecto a los parámetros y se actualizan los parámetros en la dirección opuesta al gradiente. La tasa de aprendizaje controla el tamaño de los pasos que se dan en cada iteración.\n",
    "\n",
    "Para aplicar el descenso de gradiente a un modelo de regresión lineal, se utiliza el **MSE** como función de costo. El MSE mide la diferencia entre las predicciones del modelo y los valores reales al cuadrado. El objetivo es minimizar el MSE ajustando los valores de los parámetros.\n"
   ]
  },
  {
   "cell_type": "markdown",
   "metadata": {},
   "source": [
    "Paso a paso del algoritmo de descenso de gradiente para optimizar un modelo de regresión lineal:\n",
    "\n",
    "1. Inicializa los parámetros del modelo con valores aleatorios.\n",
    "2. Calcula la función de costo utilizando los valores actuales de los parámetros.\n",
    "3. Calcula el gradiente de la función de costo con respecto a los parámetros.\n",
    "4. Actualiza los parámetros en la dirección opuesta al gradiente multiplicado por la tasa de aprendizaje.\n",
    "5. Repite los pasos 2-4 hasta que la función de costo converja a un mínimo o decidas parar."
   ]
  },
  {
   "cell_type": "markdown",
   "metadata": {},
   "source": [
    "COMO LO TENEIS QUE HACER VOSOTROS:\n",
    "\n",
    "1. Inicializa los parametros `m` y `c` a cero o con valores aleatorios.\n",
    "2. Elegimos un numero de iteraciones (eg. 100) y un ``learning_rate`` (eg. 0.01)\n",
    "3. Inicializamos valores para X e Y. X que sean numpy arrays de 10 o 20 numeros (eg. range(10)) y la Y pueden ser parecida a la X pero con numeros arriba o abajo para simular aletoriedad (eg. 2,2,4,2,5,7,6,9,8,10)\n",
    "4. Arrancamos el bucle for.\n",
    "5. Calculamos la derivada del error respecto de `m` y `c`:\n",
    "    - `dm = 2/n*sum((y-(m*x+c))*(-x))`\n",
    "    - `dc = 2/n*sum((y-(m*x+c))*(-1))`\n",
    "6. Actualizamos los parametros: `m=m-dm*lr` y `c=c-dc*lr`\n",
    "7. Cada iteracion haceis un plot de la linea `x` y `m*x+c` respecto a los puntos originales (plot de x e y) y os guardais el las imagenes (Si haceis 100 iteraciones, tendreis 100 imagenes. Podeis valorar solo guardar por ejemplo cada 5 iteraciones por no hacer tantos plots).\n",
    "8. Una vez terminamos printeamos m y c y con los plots generados teneis quer buscar alguna libreria en python y montar un gif con las imagenes de los plots:\n",
    "\n",
    "![gif](https://th.bing.com/th/id/R.79e22f97090c346d704a68f7151e8cda?rik=oJV36GZyA1otdA&riu=http%3a%2f%2fcdn-images-1.medium.com%2fmax%2f640%2f1*eeIvlwkMNG1wSmj3FR6M2g.gif&ehk=0NUalJOl26VxY8ndNrkpV7GwYM1NVtJ5kMxU6jm5jB0%3d&risl=&pid=ImgRaw&r=0)"
   ]
  },
  {
   "cell_type": "markdown",
   "metadata": {},
   "source": [
    "NOTA**: Todos los valores son orientativos. Podeis modificar los datos como querais. De hecho, os animo a que probeis y trasteeis."
   ]
  },
  {
   "cell_type": "code",
   "execution_count": 4,
   "id": "801a0fef",
   "metadata": {},
   "outputs": [],
   "source": [
    "#1. Inicializa los parámetros del modelo con valores aleatorios.\n",
    "import numpy as np\n",
    "from sklearn.model_selection import train_test_split\n",
    "from sklearn.linear_model import LinearRegression\n"
   ]
  },
  {
   "cell_type": "code",
   "execution_count": 12,
   "id": "4e61be10",
   "metadata": {},
   "outputs": [
    {
     "name": "stdout",
     "output_type": "stream",
     "text": [
      "Valores óptimos:\n",
      "m: 0.2981482532848643\n",
      "b: 3.083703321829817\n"
     ]
    },
    {
     "name": "stderr",
     "output_type": "stream",
     "text": [
      "/var/folders/z3/hzk3_13n5c10wmqwhtszhh840000gn/T/ipykernel_2063/2675197174.py:62: DeprecationWarning: Starting with ImageIO v3 the behavior of this function will switch to that of iio.v3.imread. To keep the current behavior (and make this warning disappear) use `import imageio.v2 as imageio` or call `imageio.v2.imread` directly.\n",
      "  images.append(imageio.imread(filename))\n"
     ]
    },
    {
     "name": "stdout",
     "output_type": "stream",
     "text": [
      "Se ha creado el GIF 'regression_animation.gif'\n"
     ]
    }
   ],
   "source": [
    "import numpy as np\n",
    "import matplotlib.pyplot as plt\n",
    "import imageio\n",
    "import os\n",
    "\n",
    "#Datos de entrenamiento\n",
    "X_train = np.array([0, 2, 3, 4, 5, 6, 7, 8, 9, 10])\n",
    "y_train = np.array([1, 2, 4, 7, 8, 9, 2, 3, 5, 6])\n",
    "\n",
    "m = 0 \n",
    "b = 0 \n",
    "\n",
    "#Tasa de aprendizaje\n",
    "learning_rate = 0.01\n",
    "\n",
    "#Numero de iteraciones\n",
    "num_iterations = 1000\n",
    "\n",
    "#Almacenamiento de los valores óptimos de m y b inicializamos variable vacia.\n",
    "optimal_m = None\n",
    "optimal_b = None\n",
    "\n",
    "#Algoritmo de descenso de gradiente\n",
    "for i in range(num_iterations):\n",
    "    #Calcular las predicciones del modelo\n",
    "    y_pred = m * X_train + b\n",
    "    \n",
    "    #Calcular el error cuadrático medio (MSE)\n",
    "    mse = np.mean((y_pred - y_train) ** 2)\n",
    "    \n",
    "    #Guardar los valores óptimos de m y b si el MSE es mínimo\n",
    "    if i == 0 or mse < min_mse:\n",
    "        min_mse = mse\n",
    "        optimal_m = m\n",
    "        optimal_b = b\n",
    "    \n",
    "    #Guardar las imágenes cada 20 iteraciones\n",
    "    if (i + 1) % 20 == 0:\n",
    "        plt.scatter(X_train, y_train)\n",
    "        plt.plot(X_train, y_pred, color='red', alpha=0.5)\n",
    "        plt.title(f\"Iteración {i+1}, MSE: {mse:.2f}\") # 2f es para limitar los decimales\n",
    "        plt.savefig(f'iter_{i+1:02d}_regression.png')  #Asegura que la numeración tenga dos dígitos\n",
    "        plt.close()  #Cierra la figura para liberar memoria\n",
    "    \n",
    "    #Calcular el gradiente de la función de costo (MSE)\n",
    "    grad_m = np.mean(2 * (y_pred - y_train) * X_train)\n",
    "    grad_b = np.mean(2 * (y_pred - y_train))\n",
    "    \n",
    "    #Actualizar los parámetros m y b para mejorar la predicción\n",
    "    m -= learning_rate * grad_m\n",
    "    b -= learning_rate * grad_b\n",
    "\n",
    "#Imprimir los valores óptimos de m y b\n",
    "print(\"Valores óptimos:\")\n",
    "print(\"m:\", optimal_m)\n",
    "print(\"b:\", optimal_b)\n",
    "\n",
    "#Crear el GIF\n",
    "images = []\n",
    "for i in range(20, num_iterations + 1, 20):  # Guardar imágenes cada 10 iteraciones\n",
    "    filename = f'iter_{i:02d}_regression.png'\n",
    "    images.append(imageio.imread(filename))\n",
    "imageio.mimsave('regression_animation.gif', images, fps=2)\n",
    "\n",
    "#Limpiar las imágenes guardadas\n",
    "for i in range(20, num_iterations + 1, 20):  # Eliminar imágenes cada 10 iteraciones\n",
    "    os.remove(f'iter_{i:02d}_regression.png')\n",
    "\n",
    "print(\"Se ha creado el GIF 'regression_animation.gif'\")\n",
    "\n",
    "\n"
   ]
  },
  {
   "cell_type": "markdown",
   "metadata": {},
   "source": [
    "# FORMA 2 - ECUACION NORMAL\n",
    "\n",
    "El modelo de Linear Regression es unico en todo el universo ML. Es el unico que se puede resolver de forma analitica resolviendo una ecuacion sin necesidad de optimizar usando por ejemplo el descenso de gradiente. Para resolverlo se usa una ecuacion que se llama ECUACION NORMAL.\n",
    "\n",
    "La ecuación normal es una forma de resolver la regresión lineal sin utilizar el descenso de gradiente. En lugar de iterar para encontrar los valores de los parámetros que minimizan la función de costo, la ecuación normal calcula los valores de los parámetros directamente.\n",
    "La ecuación normal para la regresión lineal simple es:\n",
    "\n",
    "$$\\theta=(X^{T}X)^{−1}X^{T}y$$\n",
    "Donde θ es el vector de parámetros, X es la matriz de características, y es el vector de valores objetivo y −1 denota la inversa de una matriz.\n",
    "La ecuación normal se deriva al igualar el gradiente de la función de costo a cero. La solución resultante es la que minimiza la función de costo.\n",
    "\n",
    "AQUI TENEIS LA FORMULA RESUELTA: https://interactivechaos.com/es/manual/tutorial-de-machine-learning/la-ecuacion-normal\n",
    "\n",
    "Buscadla y aplicarla con vuestros datos de `X` e ``y``, y os calcula directamente los parametros ``m`` y ``c``."
   ]
  },
  {
   "cell_type": "code",
   "execution_count": 37,
   "id": "26b1ecfd",
   "metadata": {},
   "outputs": [],
   "source": [
    "import seaborn as sns\n"
   ]
  },
  {
   "cell_type": "code",
   "execution_count": 2,
   "id": "377ba9e0",
   "metadata": {},
   "outputs": [
    {
     "data": {
      "image/png": "[encoded data removed]",
      "text/plain": [
       "<Figure size 640x480 with 1 Axes>"
      ]
     },
     "metadata": {},
     "output_type": "display_data"
    },
    {
     "name": "stdout",
     "output_type": "stream",
     "text": [
      "Parámetros óptimos:\n",
      "m: 0.2943722943722942\n",
      "b: 3.1103896103896105\n"
     ]
    }
   ],
   "source": [
    "import numpy as np\n",
    "import matplotlib.pyplot as plt\n",
    "\n",
    "# Datos de entrenamiento\n",
    "X_train = np.array([0, 2, 3, 4, 5, 6, 7, 8, 9, 10]).reshape(-1, 1)  # Reshape para convertirlo en un array 2D\n",
    "y_train = np.array([1, 2, 4, 7, 8, 9, 2, 3, 5, 6])\n",
    "\n",
    "# Agregar una columna de unos a X_train para el término de intercepción\n",
    "X_train_b = np.column_stack((np.ones_like(X_train), X_train))\n",
    "\n",
    "# Calcular los parámetros utilizando la ecuación normal\n",
    "theta_best = np.linalg.inv(X_train_b.T.dot(X_train_b)).dot(X_train_b.T).dot(y_train)\n",
    "\n",
    "# Obtener los parámetros m y b\n",
    "b, m = theta_best[0], theta_best[1]  # nota que b es el primer elemento\n",
    "\n",
    "# Predecir los valores de y con el modelo\n",
    "y_pred = X_train_b.dot(theta_best)\n",
    "\n",
    "# Visualizar los resultados\n",
    "plt.scatter(X_train, y_train, color='blue', marker='o', label='datos en Y')\n",
    "plt.plot(X_train, y_pred, color='red', label='Regresión lineal')\n",
    "plt.title('Ecuación normal')\n",
    "plt.xlabel('X_train')\n",
    "plt.ylabel('y_train')\n",
    "plt.legend()\n",
    "plt.show()\n",
    "\n",
    "# Mostrar los parámetros\n",
    "print(\"Parámetros óptimos:\")\n",
    "print(\"m:\", m)\n",
    "print(\"b:\", b)\n",
    "\n"
   ]
  },
  {
   "cell_type": "markdown",
   "metadata": {},
   "source": [
    "# FORMA 3 - SKLEARN\n",
    "\n",
    "Todos sabeis que si entrenamos un modelo de linear regression con sklearn podemos obtener los coeficientes con el metodo `.coef_` y el intercepto con `.intercept`.\n",
    "\n",
    "Haz un fit del modelo con tus datos X e y, y comprueba que valores de coeficiente (m) y que valor de intercepto (c) te da\n",
    "\n"
   ]
  },
  {
   "cell_type": "code",
   "execution_count": 8,
   "id": "a94f5a76",
   "metadata": {},
   "outputs": [
    {
     "data": {
      "image/png": "[encoded data removed]",
      "text/plain": [
       "<Figure size 640x480 with 1 Axes>"
      ]
     },
     "metadata": {},
     "output_type": "display_data"
    },
    {
     "name": "stdout",
     "output_type": "stream",
     "text": [
      "Parámetros óptimos:\n",
      "m: 0.2943722943722944\n",
      "b: 3.1103896103896105\n"
     ]
    }
   ],
   "source": [
    "import numpy as np\n",
    "import matplotlib.pyplot as plt\n",
    "from sklearn.linear_model import LinearRegression\n",
    "\n",
    "# Datos de entrenamiento\n",
    "X_train = np.array([0, 2, 3, 4, 5, 6, 7, 8, 9, 10]).reshape(-1, 1)\n",
    "y_train = np.array([1, 2, 4, 7, 8, 9, 2, 3, 5, 6])\n",
    "\n",
    "# Instanciar un objeto de regresión lineal\n",
    "lm = LinearRegression()\n",
    "\n",
    "# Ajustar el modelo a los datos\n",
    "lm.fit(X_train, y_train)\n",
    "\n",
    "# Obtener los coeficientes (pendiente e intercepción)\n",
    "sklearn_m  = lm.coef_[0]\n",
    "sklearn_b = lm.intercept_\n",
    "\n",
    "# Predecir los valores de y con el modelo\n",
    "y_pred = lm.predict(X_train)\n",
    "\n",
    "# Graficar los datos y la línea de regresión\n",
    "plt.scatter(X_train, y_train, color='blue', marker='o', label='Data Points')\n",
    "plt.plot(X_train, y_pred, color='red', label='Regression Line')\n",
    "plt.title('Linear Regression with scikit-learn')\n",
    "plt.xlabel('X_train')\n",
    "plt.ylabel('y_train')\n",
    "plt.legend()\n",
    "plt.show()\n",
    "\n",
    "# Mostrar los parámetros\n",
    "print(\"Parámetros óptimos:\")\n",
    "print(\"m:\", sklearn_m)\n",
    "print(\"b:\", sklearn_b)\n",
    "\n"
   ]
  },
  {
   "cell_type": "code",
   "execution_count": null,
   "id": "94141288",
   "metadata": {},
   "outputs": [],
   "source": []
  },
  {
   "cell_type": "code",
   "execution_count": 9,
   "id": "9162ff52",
   "metadata": {},
   "outputs": [
    {
     "name": "stdout",
     "output_type": "stream",
     "text": [
      "<center>\n",
      "| **Variable** | **Gradient descent** | **Ecuación normal** | **sklearn** |\n",
      "|--------------|----------------------|---------------------|-------------|\n",
      "| m | 0.30410462783973696 | 0.30406788936491524 | 0.2943722943722944 |\n",
      "| c | 3.041607119561196 | 3.0418667658028635 | 3.1103896103896105 |\n",
      "</center>\n"
     ]
    }
   ],
   "source": [
    "print(\"<center>\")\n",
    "print(\"| **Variable** | **Gradient descent** | **Ecuación normal** | **sklearn** |\")\n",
    "print(\"|--------------|----------------------|---------------------|-------------|\")\n",
    "print(f\"| m | {optimal_m} | {m} | {sklearn_m} |\")\n",
    "print(f\"| c | {optimal_b} | {b} | {sklearn_b} |\")\n",
    "print(\"</center>\")\n"
   ]
  },
  {
   "cell_type": "markdown",
   "metadata": {},
   "source": [
    "# CIERRE\n",
    "\n",
    "Si lo habeis hecho bien, los tres metodos os han debido dar valores para m y c que deberian ser identicos o suuuper parecidos. Haz un print de los parametros en una tabla para compararlos y verificar que son iguales, como se muestra a continuación."
   ]
  },
  {
   "cell_type": "markdown",
   "metadata": {},
   "source": [
    "<center>\n",
    "\n",
    "| **Variable** | **Gradient descendt** | **Ecuacion normal** | **sklearn** |\n",
    "|-------------|-------------------|----------------------|---------------------|\n",
    "|m    |  0.3454772825034164  |  0.34527687296416937  |  0.34527687  |\n",
    "|c |  3.321256418022657  |  3.322475570032573  |  3.322475570032573  |\n",
    "\n",
    "\n",
    "y=m * x + c\n",
    "\n",
    "</center>"
   ]
  },
  {
   "cell_type": "markdown",
   "id": "4198919f",
   "metadata": {},
   "source": []
  }
 ],
 "metadata": {
  "kernelspec": {
   "display_name": "Python 3 (ipykernel)",
   "language": "python",
   "name": "python3"
  },
  "language_info": {
   "codemirror_mode": {
    "name": "ipython",
    "version": 3
   },
   "file_extension": ".py",
   "mimetype": "text/x-python",
   "name": "python",
   "nbconvert_exporter": "python",
   "pygments_lexer": "ipython3",
   "version": "3.10.14"
  }
 },
 "nbformat": 4,
 "nbformat_minor": 5
}
