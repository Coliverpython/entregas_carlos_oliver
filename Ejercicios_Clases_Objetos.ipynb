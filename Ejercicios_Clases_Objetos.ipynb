{
 "cells": [
  {
   "cell_type": "markdown",
   "metadata": {},
   "source": [
    "![imagen](./img/ejercicios.png)\n",
    "\n",
    "# Ejercicios Clases y Objetos"
   ]
  },
  {
   "attachments": {},
   "cell_type": "markdown",
   "metadata": {},
   "source": [
    "## Ejercicio 1\n",
    "Somos una empresa que tiene varias tiendas de electrodomésticos. Necesitamos un programa para manejar las tiendas, ver las ventas que han tenido, cuántos empleados hay, etc... Para ello vamos a modelizar la tienda en una clase, que tendrá las siguientes características:\n",
    "* Nombre clase: \"Tienda\"\n",
    "* Atributos comunes:\n",
    "    * Tipo: \"Electrodomésticos\"\n",
    "    * Abierta: True\n",
    "* Atributos propios de cada tienda:\n",
    "    * Nombre - String\n",
    "    * Dirección - String\n",
    "    * Número de empleados - int\n",
    "    * Ventas últimos 3 meses - Lista de 3 numeros\n",
    "* Método para calcular las ventas de todos los meses, que devuelva un número con todas las ventas.\n",
    "* Método que calcula la media de ventas de los últimos meses, por empleado\n",
    "* Método que devuelve en un string el nombre de la tienda, junto con su dirección.\n",
    "* Método que obtiene las ventas del último mes.\n",
    "* Método para dar una proyección de las ventas en caso de haber invertido X dinero en marketing en esa tienda. Siendo X el parámetro de entrada. Si X es menor de 1000, las ventas de los ultimos 3 meses hubiesen sido de (1.2 x ventas), si es mayor o igual de 1000, las ventas hubiesen sido de (1.5 x venta). El método reescribe el atributo de ventas en los últimos 3 meses, y además devuelve las ventas con el aumento.\n",
    "\n",
    "Se pide:\n",
    "1. Implementar la clase \"Tienda\"\n",
    "2. Crear tres tiendas con datos inventados\n",
    "3. Comprueba en al menos una de ellas, todo lo implementado en la clase tienda (sus atributos, media de ventas, ventas/empleado...)\n",
    "3. Calcular las ventas del último mes de todas las tiendas. Para ello usa el bucle `for`\n",
    "4. Imprime por pantalla los nombres de las tiendas cuya dirección lleve el string \"Avenida\"\n",
    "5. Seguro que ya has hecho este apartado... Documenta la clase :)"
   ]
  },
  {
   "cell_type": "code",
   "execution_count": 200,
   "metadata": {},
   "outputs": [],
   "source": [
    "class Tienda:\n",
    "    '''\n",
    "    *Esta clase se utiliza para poder crear ditintas tiendas, por defecto de electrodomésticos.\n",
    "    \n",
    "    *Los inputs que tenemos que darle a la clase son el nombre de la tienda, direccion, numero de empleados, cuanto ha ganado los últimos 3 meses y por último\n",
    "    en caso de que se requiera, cambiar la tienda de electrodomésticos por lo que se quiera y definir si la tienda esta abierta o no\n",
    "\n",
    "    *Los outputs de los metodos de la clase son: En esta clase te permite conocer las ventas de los últimos 3 meses, conocer la media de venta por empleado, conocer el nombre y la dirección de la tienda,\n",
    "    saber lo que se ha vendido en el último mes y además conocer la proyección de ventas según la inversión en marketing.\n",
    "\n",
    "    '''\n",
    "    def __init__(self, nombre, direccion, n_empleados, *args, tipo = \"Electrodomésticos\", abierta = True):\n",
    "        self.nombre = nombre\n",
    "        self.direccion = direccion\n",
    "        self.n_empleados = n_empleados\n",
    "        self.ventas = args\n",
    "        \n",
    "    #PROBLEMA A COMENTAR CUANDO SE VA A SUMAR EL NUMERO DE VENTAS, NO SE PUEDE HACER EN EL METODO CON ARGS DIRECTAMENTE PORQUE ESTA EN EL __INIT__\n",
    "    #HAY QUE PASARSELO A UNA VARIABLE SELF.VENTAS PARA QUE VENTAS ALMACENE LOS DATOS Y YA CON ESO SE SUMAN\n",
    "    \n",
    "    def conteo_ventas(self):\n",
    "        return print(f\"La suma de las ventas de los últimos 3 meses es de, {sum(self.ventas)}€\")\n",
    "    #Para realizar los calculos es mejor hacerlo por partes, primero sacar la suma meterlo en una variable y despues la media meterla en otra\n",
    "    def venta_empleado(self):\n",
    "        total_ventas = sum(self.ventas)\n",
    "        media_empleado = total_ventas/self.n_empleados\n",
    "        return print(f\"la media de ventas por empleado es, {int(media_empleado)} €\")\n",
    "    def datos(self):\n",
    "        return self.nombre, self.direccion\n",
    "    def ventas_ult_mes(self):\n",
    "        ventas_ult_eur = self.ventas[-1]\n",
    "        print (f\"Las ventas del último mes son : {ventas_ult_eur} €\")\n",
    "        return ventas_ult_eur\n",
    "    #Método para dar una proyección de las ventas en caso de haber invertido X dinero en marketing en esa tienda. Siendo X el parámetro de entrada.\n",
    "    # Si X es menor de 1000, las ventas de los ultimos 3 meses hubiesen sido de (1.2 x ventas), si es mayor o igual de 1000, \n",
    "    #las ventas hubiesen sido de (1.5 x venta). El método reescribe el atributo de ventas en los últimos 3 meses, y además devuelve las ventas con el aumento.\n",
    "    def proyeccion_ventas(self, money):\n",
    "        if money < 1000:\n",
    "            print(f\"Las ventas de los últimos 3 meses fueron de {sum(self.ventas)} € con casi 1000€ de inversión en marketing hubieran sido de {sum(self.ventas)*1.2} €\")\n",
    "        elif money >= 1000:\n",
    "            print(f\"Las ventas de los últimos 3 meses fueron de {sum(self.ventas)} € con más de 1000€ de inversión en marketing hubieran sido hubieran sido de {sum(self.ventas)*1.5} €\")\n",
    "        \n"
   ]
  },
  {
   "cell_type": "code",
   "execution_count": 210,
   "metadata": {},
   "outputs": [],
   "source": [
    "tienda1 = Tienda(\"Castellón\", \"Avenida Joaquin Sorolla, n 35\", 35, 65000, 25000, 30000)\n",
    "tienda2 = Tienda(\"Valencia\",\"Avenida Rio ebro, 67\", 15, 15000, 12000, 6789)\n",
    "tienda3 = Tienda(\"Alicante\", \"Avenida Arenal, 37\", 15, 36000, 26000, 20000)"
   ]
  },
  {
   "cell_type": "code",
   "execution_count": 211,
   "metadata": {},
   "outputs": [
    {
     "name": "stdout",
     "output_type": "stream",
     "text": [
      "La suma de las ventas de los últimos 3 meses es de, 120000€\n",
      "La suma de las ventas de los últimos 3 meses es de, 33789€\n",
      "La suma de las ventas de los últimos 3 meses es de, 82000€\n"
     ]
    }
   ],
   "source": [
    "tienda1.conteo_ventas()\n",
    "tienda2.conteo_ventas()\n",
    "tienda3.conteo_ventas()"
   ]
  },
  {
   "cell_type": "code",
   "execution_count": 212,
   "metadata": {},
   "outputs": [
    {
     "name": "stdout",
     "output_type": "stream",
     "text": [
      "la media de ventas por empleado es, 3428 €\n",
      "la media de ventas por empleado es, 2252 €\n",
      "la media de ventas por empleado es, 5466 €\n"
     ]
    }
   ],
   "source": [
    "tienda1.venta_empleado()\n",
    "tienda2.venta_empleado()\n",
    "tienda3.venta_empleado()"
   ]
  },
  {
   "cell_type": "code",
   "execution_count": 213,
   "metadata": {},
   "outputs": [
    {
     "data": {
      "text/plain": [
       "('Alicante', 'Avenida Arenal, 37')"
      ]
     },
     "execution_count": 213,
     "metadata": {},
     "output_type": "execute_result"
    }
   ],
   "source": [
    "tienda1.datos()\n",
    "tienda2.datos()\n",
    "tienda3.datos()"
   ]
  },
  {
   "cell_type": "code",
   "execution_count": 214,
   "metadata": {},
   "outputs": [
    {
     "name": "stdout",
     "output_type": "stream",
     "text": [
      "Las ventas del último mes son : 30000 €\n"
     ]
    },
    {
     "data": {
      "text/plain": [
       "30000"
      ]
     },
     "execution_count": 214,
     "metadata": {},
     "output_type": "execute_result"
    }
   ],
   "source": [
    "tienda1.ventas_ult_mes()"
   ]
  },
  {
   "cell_type": "code",
   "execution_count": 215,
   "metadata": {},
   "outputs": [
    {
     "name": "stdout",
     "output_type": "stream",
     "text": [
      "Las ventas de los últimos 3 meses fueron de 120000 € con más de 1000€ de inversión en marketing hubieran sido hubieran sido de 180000.0 €\n",
      "Las ventas de los últimos 3 meses fueron de 82000 € con casi 1000€ de inversión en marketing hubieran sido de 98400.0 €\n"
     ]
    }
   ],
   "source": [
    "tienda1.proyeccion_ventas(1200)\n",
    "tienda3.proyeccion_ventas(800)"
   ]
  },
  {
   "cell_type": "code",
   "execution_count": 216,
   "metadata": {},
   "outputs": [
    {
     "name": "stdout",
     "output_type": "stream",
     "text": [
      "Las ventas del último mes son : 30000 €\n",
      "Las ventas del último mes son : 6789 €\n",
      "Las ventas del último mes son : 20000 €\n",
      "Las ventas de todas las tiendas del último mes son 56789 €\n"
     ]
    }
   ],
   "source": [
    "#3. Calcular las ventas del último mes de todas las tiendas. Para ello usa el bucle `for`\n",
    "lista_tiendas = [tienda1.ventas_ult_mes(), tienda2.ventas_ult_mes(), tienda3.ventas_ult_mes()]\n",
    "print(f\"Las ventas de todas las tiendas del último mes son {sum(lista_tiendas)} €\")\n"
   ]
  },
  {
   "cell_type": "code",
   "execution_count": 219,
   "metadata": {},
   "outputs": [
    {
     "name": "stdout",
     "output_type": "stream",
     "text": [
      "Tienda Avenida Joaquin Sorolla, n 35\n",
      "Tienda Avenida Rio ebro, 67\n",
      "Tienda Avenida Arenal, 37\n"
     ]
    }
   ],
   "source": [
    "#4. Imprime por pantalla los nombres de las tiendas cuya dirección lleve el string \"Avenida\"\n",
    "tiendas = [tienda1, tienda2, tienda3]\n",
    "\n",
    "for tienda in tiendas:\n",
    "    if \"Avenida\" in tienda.direccion:\n",
    "        print(\"Tienda\", tienda.direccion)\n",
    "    "
   ]
  },
  {
   "cell_type": "markdown",
   "metadata": {},
   "source": [
    "## Ejercicio 2\n",
    "En este ejercicio vamos a implementar una clase *Perro* en Python. La clase tiene las siguientes características:\n",
    "* Cosas que sabemos seguro que tiene un perro\n",
    "    * Tiene 4 patas\n",
    "    * 2 orejas\n",
    "    * 2 ojos\n",
    "    * Una velocidad de 0. Por defecto, el perro está parado\n",
    "* Cuando se inicialice:\n",
    "    * El perro será de una determinada raza\n",
    "    * Por defecto tendrá pelo \"Marrón\", a no ser que se diga lo contrario.\n",
    "    * Por defecto no tendrá dueño, a no ser que se diga lo contrario.\n",
    "    \n",
    "* Dispondrá también de un método llamado andar, que tiene un argumento de entrada (aumento_velocidad). Este valor se le sumará a la velocidad que ya llevaba el perro.\n",
    "* Necesita otro método (parar), donde pondremos la velocidad a 0.\n",
    "* Otro método llamado \"ladrar\", que tendrá un argumento de entrada, y la salida será el siguiente string: \"GUAU!\" + el argumento de entrada.\n",
    "\n",
    "\n",
    "Se pide:\n",
    "* Implementa la clase *Perro*\n",
    "* Crea un objeto de tipo *Perro*, sin dueño\n",
    "* Comprueba que están bien todos sus atributos\n",
    "* Prueba que ande, y comprueba su velocidad\n",
    "* Páralo\n",
    "* Documenta la clase *Perro*"
   ]
  },
  {
   "cell_type": "code",
   "execution_count": 271,
   "metadata": {},
   "outputs": [],
   "source": [
    "#No entiendo porque hay que volver a poner velocidad 0 cuando ya lo estoy definiendo como atributo en init\n",
    "class Perro:\n",
    "    '''\n",
    "    *Esta clase perro esta definida para crear un perro de cualquier raza, se definen por defecto los atributos estadars de un perro, orejas, patas, ojos, que no tiene dueño\n",
    "    es de color marron y esta parado.\n",
    "    con las funciones de la clase se puede darle velocidad al perro para que se mueva, se puede decir que pare y ademas se le puede pedir que ladre.\n",
    "    '''\n",
    "    def __init__(self,raza, dueño = False, color = \"marron\" ,patas = 4, orejas = 2, ojos = 2, velocidad = 0):\n",
    "        self.raza = raza\n",
    "        self.velocidad = 0\n",
    "    \n",
    "    def andar(self, aumento_velocidad):\n",
    "            self.velocidad =+ aumento_velocidad\n",
    "            print(f\"El perro va a una velocidad de {self.velocidad} km/h\")\n",
    "    def parar(self):\n",
    "        self.velocidad = 0\n",
    "        print(f\"El perro esta parado, {self.velocidad} km/h\")\n",
    "    def ladrar(self,ladra = False):\n",
    "         if ladra == True:\n",
    "            print(f\"GUAU!, {ladra}\")\n",
    "    \n",
    "\n"
   ]
  },
  {
   "cell_type": "code",
   "execution_count": 272,
   "metadata": {},
   "outputs": [],
   "source": [
    "perro1 = Perro(\"babala\")"
   ]
  },
  {
   "cell_type": "code",
   "execution_count": 273,
   "metadata": {},
   "outputs": [
    {
     "name": "stdout",
     "output_type": "stream",
     "text": [
      "El perro va a una velocidad de 10 km/h\n"
     ]
    }
   ],
   "source": [
    "perro1.andar(10)"
   ]
  },
  {
   "cell_type": "code",
   "execution_count": 274,
   "metadata": {},
   "outputs": [
    {
     "name": "stdout",
     "output_type": "stream",
     "text": [
      "El perro esta parado, 0 km/h\n"
     ]
    }
   ],
   "source": [
    "perro1.parar()"
   ]
  },
  {
   "cell_type": "code",
   "execution_count": 275,
   "metadata": {},
   "outputs": [
    {
     "name": "stdout",
     "output_type": "stream",
     "text": [
      "GUAU!, True\n"
     ]
    }
   ],
   "source": [
    "perro1.ladrar(True)"
   ]
  },
  {
   "cell_type": "code",
   "execution_count": null,
   "metadata": {},
   "outputs": [],
   "source": []
  }
 ],
 "metadata": {
  "kernelspec": {
   "display_name": "Python 3.7.4 64-bit",
   "language": "python",
   "name": "python3"
  },
  "language_info": {
   "codemirror_mode": {
    "name": "ipython",
    "version": 3
   },
   "file_extension": ".py",
   "mimetype": "text/x-python",
   "name": "python",
   "nbconvert_exporter": "python",
   "pygments_lexer": "ipython3",
   "version": "3.12.1"
  },
  "vscode": {
   "interpreter": {
    "hash": "90139cb9a825bf3d63f6f6704e828dbd1ff7edbd4d0c6e906a71235d6efc74af"
   }
  }
 },
 "nbformat": 4,
 "nbformat_minor": 4
}
